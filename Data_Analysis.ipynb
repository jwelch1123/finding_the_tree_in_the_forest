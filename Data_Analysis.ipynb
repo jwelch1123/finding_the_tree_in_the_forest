{
 "cells": [
  {
   "cell_type": "markdown",
   "metadata": {},
   "source": [
    "# Meta\n",
    "https://www.python-graph-gallery.com/324-map-a-color-to-network-nodes \\\n",
    "\n",
    "https://networkx.org/documentation/stable/index.html\n"
   ]
  },
  {
   "cell_type": "markdown",
   "metadata": {},
   "source": [
    "# Audible Data Analysis\n",
    "\n",
    "#### Data Scraped on 5/10/21\n",
    "\n",
    "### Introduction\n",
    "This notebook documents the data analysis of the title and category information scraped from Audible.com and Amazon.com. Generally we will focus on book length, price, ratings, and number of listens. \n",
    "\n",
    "\n",
    "### Requirements\n",
    "Please run the web scraping programs below before analsis. Static images will be included in the presentation accompanying this notebook. **Confirm requirements.txt is met**:\n",
    "- books_scrapy_audible -> category_spider\n",
    "- books_scrapy_audible -> titles_spider\n",
    "\n",
    "Running these programs should result in the following csv files\n",
    "- books_scrapy_audible -> category_hierarchy_n_urls.csv\n",
    "- books_scrapy_audible -> title_information.csv"
   ]
  },
  {
   "cell_type": "code",
   "execution_count": 2,
   "metadata": {},
   "outputs": [],
   "source": [
    "import numpy as np\n",
    "import seaborn as sns\n",
    "import pandas as pd\n",
    "from statistics import mode\n",
    "import networkx as nx\n",
    "import matplotlib.pyplot as plt"
   ]
  },
  {
   "cell_type": "markdown",
   "metadata": {},
   "source": [
    "### Data Import\n",
    "Due to the nature of the scraping program, which you can read about in the README.md, most titles have been scraped multiple times. Luckily all urls lead to the same product and are unique so they can help us easily filter for unique titles, and categories can be condensed into a list which will act like a list of tags. "
   ]
  },
  {
   "cell_type": "code",
   "execution_count": 3,
   "metadata": {},
   "outputs": [],
   "source": [
    "cat_data   = pd.read_csv(\"books_scrapy_audible/category_hierarchy_n_urls.csv\")\n",
    "title_data = pd.read_csv(\"books_scrapy_audible/title_information.csv\")"
   ]
  },
  {
   "cell_type": "code",
   "execution_count": 3,
   "metadata": {
    "collapsed": true,
    "jupyter": {
     "outputs_hidden": true
    }
   },
   "outputs": [
    {
     "data": {
      "text/html": [
       "<div>\n",
       "<style scoped>\n",
       "    .dataframe tbody tr th:only-of-type {\n",
       "        vertical-align: middle;\n",
       "    }\n",
       "\n",
       "    .dataframe tbody tr th {\n",
       "        vertical-align: top;\n",
       "    }\n",
       "\n",
       "    .dataframe thead th {\n",
       "        text-align: right;\n",
       "    }\n",
       "</style>\n",
       "<table border=\"1\" class=\"dataframe\">\n",
       "  <thead>\n",
       "    <tr style=\"text-align: right;\">\n",
       "      <th></th>\n",
       "      <th>category_name</th>\n",
       "      <th>category_numb_title</th>\n",
       "      <th>leaf_flag</th>\n",
       "      <th>parent_category</th>\n",
       "      <th>parent_url</th>\n",
       "      <th>self_url</th>\n",
       "      <th>title_list_url</th>\n",
       "    </tr>\n",
       "  </thead>\n",
       "  <tbody>\n",
       "    <tr>\n",
       "      <td>0</td>\n",
       "      <td>Travel &amp; Tourism</td>\n",
       "      <td>8631</td>\n",
       "      <td>False</td>\n",
       "      <td>Audible</td>\n",
       "      <td>https://www.audible.com/categories</td>\n",
       "      <td>https://www.audible.com/cat/Travel-Tourism-Aud...</td>\n",
       "      <td>https://www.audible.com/search?node=1858109501...</td>\n",
       "    </tr>\n",
       "    <tr>\n",
       "      <td>1</td>\n",
       "      <td>Teen</td>\n",
       "      <td>18661</td>\n",
       "      <td>False</td>\n",
       "      <td>Audible</td>\n",
       "      <td>https://www.audible.com/categories</td>\n",
       "      <td>https://www.audible.com/cat/Teen-Audiobooks/18...</td>\n",
       "      <td>https://www.audible.com/search?node=1858071501...</td>\n",
       "    </tr>\n",
       "    <tr>\n",
       "      <td>2</td>\n",
       "      <td>Sports &amp; Outdoors</td>\n",
       "      <td>22415</td>\n",
       "      <td>False</td>\n",
       "      <td>Audible</td>\n",
       "      <td>https://www.audible.com/categories</td>\n",
       "      <td>https://www.audible.com/cat/Sports-Outdoors-Au...</td>\n",
       "      <td>https://www.audible.com/search?node=1858064801...</td>\n",
       "    </tr>\n",
       "    <tr>\n",
       "      <td>3</td>\n",
       "      <td>Science Fiction &amp; Fantasy</td>\n",
       "      <td>61202</td>\n",
       "      <td>False</td>\n",
       "      <td>Audible</td>\n",
       "      <td>https://www.audible.com/categories</td>\n",
       "      <td>https://www.audible.com/cat/Science-Fiction-Fa...</td>\n",
       "      <td>https://www.audible.com/search?node=1858060601...</td>\n",
       "    </tr>\n",
       "    <tr>\n",
       "      <td>4</td>\n",
       "      <td>Science &amp; Engineering</td>\n",
       "      <td>17495</td>\n",
       "      <td>False</td>\n",
       "      <td>Audible</td>\n",
       "      <td>https://www.audible.com/categories</td>\n",
       "      <td>https://www.audible.com/cat/Science-Engineerin...</td>\n",
       "      <td>https://www.audible.com/search?node=1858054001...</td>\n",
       "    </tr>\n",
       "  </tbody>\n",
       "</table>\n",
       "</div>"
      ],
      "text/plain": [
       "               category_name  category_numb_title  leaf_flag parent_category  \\\n",
       "0           Travel & Tourism                 8631      False         Audible   \n",
       "1                       Teen                18661      False         Audible   \n",
       "2          Sports & Outdoors                22415      False         Audible   \n",
       "3  Science Fiction & Fantasy                61202      False         Audible   \n",
       "4      Science & Engineering                17495      False         Audible   \n",
       "\n",
       "                           parent_url  \\\n",
       "0  https://www.audible.com/categories   \n",
       "1  https://www.audible.com/categories   \n",
       "2  https://www.audible.com/categories   \n",
       "3  https://www.audible.com/categories   \n",
       "4  https://www.audible.com/categories   \n",
       "\n",
       "                                            self_url  \\\n",
       "0  https://www.audible.com/cat/Travel-Tourism-Aud...   \n",
       "1  https://www.audible.com/cat/Teen-Audiobooks/18...   \n",
       "2  https://www.audible.com/cat/Sports-Outdoors-Au...   \n",
       "3  https://www.audible.com/cat/Science-Fiction-Fa...   \n",
       "4  https://www.audible.com/cat/Science-Engineerin...   \n",
       "\n",
       "                                      title_list_url  \n",
       "0  https://www.audible.com/search?node=1858109501...  \n",
       "1  https://www.audible.com/search?node=1858071501...  \n",
       "2  https://www.audible.com/search?node=1858064801...  \n",
       "3  https://www.audible.com/search?node=1858060601...  \n",
       "4  https://www.audible.com/search?node=1858054001...  "
      ]
     },
     "execution_count": 3,
     "metadata": {},
     "output_type": "execute_result"
    }
   ],
   "source": [
    "cat_data.head()"
   ]
  },
  {
   "cell_type": "code",
   "execution_count": 6,
   "metadata": {
    "collapsed": true,
    "jupyter": {
     "outputs_hidden": true
    }
   },
   "outputs": [
    {
     "data": {
      "text/html": [
       "<div>\n",
       "<style scoped>\n",
       "    .dataframe tbody tr th:only-of-type {\n",
       "        vertical-align: middle;\n",
       "    }\n",
       "\n",
       "    .dataframe tbody tr th {\n",
       "        vertical-align: top;\n",
       "    }\n",
       "\n",
       "    .dataframe thead th {\n",
       "        text-align: right;\n",
       "    }\n",
       "</style>\n",
       "<table border=\"1\" class=\"dataframe\">\n",
       "  <thead>\n",
       "    <tr style=\"text-align: right;\">\n",
       "      <th></th>\n",
       "      <th>author</th>\n",
       "      <th>count_rating</th>\n",
       "      <th>language</th>\n",
       "      <th>length</th>\n",
       "      <th>narrator</th>\n",
       "      <th>pod_flag</th>\n",
       "      <th>price</th>\n",
       "      <th>release_date</th>\n",
       "      <th>star_rating</th>\n",
       "      <th>subtitle</th>\n",
       "      <th>title</th>\n",
       "      <th>title_category</th>\n",
       "      <th>title_url</th>\n",
       "    </tr>\n",
       "  </thead>\n",
       "  <tbody>\n",
       "    <tr>\n",
       "      <td>0</td>\n",
       "      <td>Yuval Noah Harari</td>\n",
       "      <td>43059.0</td>\n",
       "      <td>English</td>\n",
       "      <td>917</td>\n",
       "      <td>Derek Perkins</td>\n",
       "      <td>False</td>\n",
       "      <td>34.22</td>\n",
       "      <td>08-15-17</td>\n",
       "      <td>4.5</td>\n",
       "      <td>A Brief History of Humankind</td>\n",
       "      <td>Sapiens</td>\n",
       "      <td>Biological Sciences</td>\n",
       "      <td>https://www.audible.com/pd/Sapiens-Audiobook/B...</td>\n",
       "    </tr>\n",
       "    <tr>\n",
       "      <td>1</td>\n",
       "      <td>Walter Isaacson</td>\n",
       "      <td>1622.0</td>\n",
       "      <td>English</td>\n",
       "      <td>964</td>\n",
       "      <td>Kathe Mazur,Walter Isaacson</td>\n",
       "      <td>False</td>\n",
       "      <td>28.34</td>\n",
       "      <td>03-09-21</td>\n",
       "      <td>4.5</td>\n",
       "      <td>Jennifer Doudna, Gene Editing, and the Future ...</td>\n",
       "      <td>The Code Breaker</td>\n",
       "      <td>Biological Sciences</td>\n",
       "      <td>https://www.audible.com/pd/The-Code-Breaker-Au...</td>\n",
       "    </tr>\n",
       "    <tr>\n",
       "      <td>2</td>\n",
       "      <td>James Nestor</td>\n",
       "      <td>4300.0</td>\n",
       "      <td>English</td>\n",
       "      <td>438</td>\n",
       "      <td>James Nestor</td>\n",
       "      <td>False</td>\n",
       "      <td>24.50</td>\n",
       "      <td>05-26-20</td>\n",
       "      <td>5.0</td>\n",
       "      <td>The New Science of a Lost Art</td>\n",
       "      <td>Breath</td>\n",
       "      <td>Biological Sciences</td>\n",
       "      <td>https://www.audible.com/pd/Breath-Audiobook/05...</td>\n",
       "    </tr>\n",
       "    <tr>\n",
       "      <td>3</td>\n",
       "      <td>Robin Wall Kimmerer</td>\n",
       "      <td>4346.0</td>\n",
       "      <td>English</td>\n",
       "      <td>1004</td>\n",
       "      <td>Robin Wall Kimmerer</td>\n",
       "      <td>False</td>\n",
       "      <td>34.99</td>\n",
       "      <td>12-27-15</td>\n",
       "      <td>5.0</td>\n",
       "      <td>Indigenous Wisdom, Scientific Knowledge and th...</td>\n",
       "      <td>Braiding Sweetgrass</td>\n",
       "      <td>Biological Sciences</td>\n",
       "      <td>https://www.audible.com/pd/Braiding-Sweetgrass...</td>\n",
       "    </tr>\n",
       "    <tr>\n",
       "      <td>4</td>\n",
       "      <td>Suzanne Simard</td>\n",
       "      <td>5.0</td>\n",
       "      <td>English</td>\n",
       "      <td>733</td>\n",
       "      <td>Suzanne Simard</td>\n",
       "      <td>False</td>\n",
       "      <td>31.50</td>\n",
       "      <td>05-04-21</td>\n",
       "      <td>5.0</td>\n",
       "      <td>Discovering the Wisdom of the Forest</td>\n",
       "      <td>Finding the Mother Tree</td>\n",
       "      <td>Biological Sciences</td>\n",
       "      <td>https://www.audible.com/pd/Finding-the-Mother-...</td>\n",
       "    </tr>\n",
       "  </tbody>\n",
       "</table>\n",
       "</div>"
      ],
      "text/plain": [
       "                author  count_rating language  length  \\\n",
       "0    Yuval Noah Harari       43059.0  English     917   \n",
       "1      Walter Isaacson        1622.0  English     964   \n",
       "2         James Nestor        4300.0  English     438   \n",
       "3  Robin Wall Kimmerer        4346.0  English    1004   \n",
       "4       Suzanne Simard           5.0  English     733   \n",
       "\n",
       "                      narrator  pod_flag  price release_date  star_rating  \\\n",
       "0                Derek Perkins     False  34.22     08-15-17          4.5   \n",
       "1  Kathe Mazur,Walter Isaacson     False  28.34     03-09-21          4.5   \n",
       "2                 James Nestor     False  24.50     05-26-20          5.0   \n",
       "3          Robin Wall Kimmerer     False  34.99     12-27-15          5.0   \n",
       "4               Suzanne Simard     False  31.50     05-04-21          5.0   \n",
       "\n",
       "                                            subtitle                    title  \\\n",
       "0                       A Brief History of Humankind                  Sapiens   \n",
       "1  Jennifer Doudna, Gene Editing, and the Future ...         The Code Breaker   \n",
       "2                      The New Science of a Lost Art                   Breath   \n",
       "3  Indigenous Wisdom, Scientific Knowledge and th...      Braiding Sweetgrass   \n",
       "4               Discovering the Wisdom of the Forest  Finding the Mother Tree   \n",
       "\n",
       "        title_category                                          title_url  \n",
       "0  Biological Sciences  https://www.audible.com/pd/Sapiens-Audiobook/B...  \n",
       "1  Biological Sciences  https://www.audible.com/pd/The-Code-Breaker-Au...  \n",
       "2  Biological Sciences  https://www.audible.com/pd/Breath-Audiobook/05...  \n",
       "3  Biological Sciences  https://www.audible.com/pd/Braiding-Sweetgrass...  \n",
       "4  Biological Sciences  https://www.audible.com/pd/Finding-the-Mother-...  "
      ]
     },
     "execution_count": 6,
     "metadata": {},
     "output_type": "execute_result"
    }
   ],
   "source": [
    "title_data.head()"
   ]
  },
  {
   "cell_type": "markdown",
   "metadata": {},
   "source": [
    "### Category Structure\n",
    "Audible has a variety of categories allowing the user to filter their search as desired. Interestingly the category system seems to function more like tags, with content belonging to multiple unconnected categories. Additionally, since only 1200 results are displayed in the search pane, categories containing more than 1200 titles are generally broken down into sub-categories. "
   ]
  },
  {
   "cell_type": "markdown",
   "metadata": {},
   "source": [
    "There are 1171 listed categories, 121 redirect to another page, so 1050 were scraped. \n",
    "\n",
    "So instead of __ we get directed to __:\n",
    "- Childrens / Action-Adventure -> Literature-Fiction / Action-Adventure\n",
    "- Fairy-Tales-Folk-Tales-Myths / Adaptations -> Fantasy-Magic / Fairy-Tale-Adaptations\n",
    "- Biographies / Historical -> History / Historical-Biographies"
   ]
  },
  {
   "cell_type": "markdown",
   "metadata": {},
   "source": [
    "#### EDA"
   ]
  },
  {
   "cell_type": "code",
   "execution_count": 40,
   "metadata": {},
   "outputs": [
    {
     "data": {
      "image/png": "[encoded data removed]",
      "text/plain": [
       "<Figure size 360x360 with 1 Axes>"
      ]
     },
     "metadata": {
      "needs_background": "light"
     },
     "output_type": "display_data"
    }
   ],
   "source": [
    "data = cat_data['category_numb_title']\n",
    "plot = sns.displot(data)\n",
    "\n",
    "plot.set_axis_labels(\"Number of Titles\")\n",
    "plt.title(\"Histogram of Number of Titles for All Categories\")\n",
    "\n",
    "#plt.show()\n",
    "plt.savefig(\"./graphics/hist_cats.png\", bbox_inches = 'tight')"
   ]
  },
  {
   "cell_type": "code",
   "execution_count": 34,
   "metadata": {},
   "outputs": [
    {
     "data": {
      "text/html": [
       "<div>\n",
       "<style scoped>\n",
       "    .dataframe tbody tr th:only-of-type {\n",
       "        vertical-align: middle;\n",
       "    }\n",
       "\n",
       "    .dataframe tbody tr th {\n",
       "        vertical-align: top;\n",
       "    }\n",
       "\n",
       "    .dataframe thead th {\n",
       "        text-align: right;\n",
       "    }\n",
       "</style>\n",
       "<table border=\"1\" class=\"dataframe\">\n",
       "  <thead>\n",
       "    <tr style=\"text-align: right;\">\n",
       "      <th></th>\n",
       "      <th>Number of Titles</th>\n",
       "    </tr>\n",
       "    <tr>\n",
       "      <th>Top Level Category Name</th>\n",
       "      <th></th>\n",
       "    </tr>\n",
       "  </thead>\n",
       "  <tbody>\n",
       "    <tr>\n",
       "      <th>Travel &amp; Tourism</th>\n",
       "      <td>8631</td>\n",
       "    </tr>\n",
       "    <tr>\n",
       "      <th>Teen</th>\n",
       "      <td>18661</td>\n",
       "    </tr>\n",
       "    <tr>\n",
       "      <th>Sports &amp; Outdoors</th>\n",
       "      <td>22415</td>\n",
       "    </tr>\n",
       "    <tr>\n",
       "      <th>Science Fiction &amp; Fantasy</th>\n",
       "      <td>61202</td>\n",
       "    </tr>\n",
       "    <tr>\n",
       "      <th>Science &amp; Engineering</th>\n",
       "      <td>17495</td>\n",
       "    </tr>\n",
       "    <tr>\n",
       "      <th>Romance</th>\n",
       "      <td>63904</td>\n",
       "    </tr>\n",
       "    <tr>\n",
       "      <th>Religion &amp; Spirituality</th>\n",
       "      <td>55302</td>\n",
       "    </tr>\n",
       "    <tr>\n",
       "      <th>Relationships, Parenting &amp; Personal Development</th>\n",
       "      <td>58980</td>\n",
       "    </tr>\n",
       "    <tr>\n",
       "      <th>Politics &amp; Social Sciences</th>\n",
       "      <td>59844</td>\n",
       "    </tr>\n",
       "    <tr>\n",
       "      <th>Mystery, Thriller &amp; Suspense</th>\n",
       "      <td>65484</td>\n",
       "    </tr>\n",
       "    <tr>\n",
       "      <th>Money &amp; Finance</th>\n",
       "      <td>46484</td>\n",
       "    </tr>\n",
       "    <tr>\n",
       "      <th>Literature &amp; Fiction</th>\n",
       "      <td>77531</td>\n",
       "    </tr>\n",
       "    <tr>\n",
       "      <th>LGBTQ+</th>\n",
       "      <td>6750</td>\n",
       "    </tr>\n",
       "    <tr>\n",
       "      <th>Home &amp; Garden</th>\n",
       "      <td>8875</td>\n",
       "    </tr>\n",
       "    <tr>\n",
       "      <th>History</th>\n",
       "      <td>32908</td>\n",
       "    </tr>\n",
       "    <tr>\n",
       "      <th>Erotica</th>\n",
       "      <td>24511</td>\n",
       "    </tr>\n",
       "    <tr>\n",
       "      <th>Health &amp; Wellness</th>\n",
       "      <td>50849</td>\n",
       "    </tr>\n",
       "    <tr>\n",
       "      <th>Education &amp; Learning</th>\n",
       "      <td>21214</td>\n",
       "    </tr>\n",
       "    <tr>\n",
       "      <th>Computers &amp; Technology</th>\n",
       "      <td>3766</td>\n",
       "    </tr>\n",
       "    <tr>\n",
       "      <th>Children's Audiobooks</th>\n",
       "      <td>54142</td>\n",
       "    </tr>\n",
       "    <tr>\n",
       "      <th>Business &amp; Careers</th>\n",
       "      <td>53264</td>\n",
       "    </tr>\n",
       "    <tr>\n",
       "      <th>Arts &amp; Entertainment</th>\n",
       "      <td>52376</td>\n",
       "    </tr>\n",
       "    <tr>\n",
       "      <th>Biographies &amp; Memoirs</th>\n",
       "      <td>50204</td>\n",
       "    </tr>\n",
       "  </tbody>\n",
       "</table>\n",
       "</div>"
      ],
      "text/plain": [
       "                                                 Number of Titles\n",
       "Top Level Category Name                                          \n",
       "Travel & Tourism                                             8631\n",
       "Teen                                                        18661\n",
       "Sports & Outdoors                                           22415\n",
       "Science Fiction & Fantasy                                   61202\n",
       "Science & Engineering                                       17495\n",
       "Romance                                                     63904\n",
       "Religion & Spirituality                                     55302\n",
       "Relationships, Parenting & Personal Development             58980\n",
       "Politics & Social Sciences                                  59844\n",
       "Mystery, Thriller & Suspense                                65484\n",
       "Money & Finance                                             46484\n",
       "Literature & Fiction                                        77531\n",
       "LGBTQ+                                                       6750\n",
       "Home & Garden                                                8875\n",
       "History                                                     32908\n",
       "Erotica                                                     24511\n",
       "Health & Wellness                                           50849\n",
       "Education & Learning                                        21214\n",
       "Computers & Technology                                       3766\n",
       "Children's Audiobooks                                       54142\n",
       "Business & Careers                                          53264\n",
       "Arts & Entertainment                                        52376\n",
       "Biographies & Memoirs                                       50204"
      ]
     },
     "execution_count": 34,
     "metadata": {},
     "output_type": "execute_result"
    }
   ],
   "source": [
    "big_bois = cat_data[cat_data['parent_category']== 'Audible'].filter(items = ['category_name','category_numb_title'])\n",
    "big_bois.columns = ['Top Level Category Name','Number of Titles']\n",
    "big_bois.set_index('Top Level Category Name')"
   ]
  },
  {
   "cell_type": "code",
   "execution_count": 17,
   "metadata": {},
   "outputs": [
    {
     "data": {
      "image/png": "[encoded data removed]",
      "text/plain": [
       "<Figure size 360x360 with 1 Axes>"
      ]
     },
     "metadata": {
      "needs_background": "light"
     },
     "output_type": "display_data"
    }
   ],
   "source": [
    "data2 = cat_data[(cat_data['leaf_flag']==True) &  (cat_data['category_numb_title'] <5001)]['category_numb_title']\n",
    "plot = sns.displot(data2, bins = )\n",
    "\n",
    "plot.set_axis_labels(\"Number of Titles (<5000)\")\n",
    "plt.title(\"DensityPlot of Number of Titles per Bottom-Level Category\")\n",
    "plt.axvline(1200, 0, 0.95, color = 'r')\n",
    "plt.text(x=1500, y=200, s= \"Results Page \\nDisplay Limit\", color = 'r')\n",
    "\n",
    "plt.text(x=2000, y=60, s= \"31 Categoires with more than 5000 titles\", color = 'k')\n",
    "plt.text(x=2000, y=50, s= \"139 Categoires with more than 1200 titles\", color = 'k')\n",
    "\n",
    "\n",
    "#plt.show()\n",
    "plt.savefig(\"./graphics/hist_leafs.png\", bbox_inches = 'tight')"
   ]
  },
  {
   "cell_type": "code",
   "execution_count": 29,
   "metadata": {},
   "outputs": [
    {
     "data": {
      "image/png": "[encoded data removed]",
      "text/plain": [
       "<Figure size 360x360 with 1 Axes>"
      ]
     },
     "metadata": {
      "needs_background": "light"
     },
     "output_type": "display_data"
    }
   ],
   "source": [
    "data2 = cat_data[(cat_data['leaf_flag']==True) &  (cat_data['category_numb_title'] <5001)]['category_numb_title']\n",
    "\n",
    "plot = sns.displot(data2, kind = 'kde', bw_adjust = 0.05)\n",
    "\n",
    "plt.axvline(1200, 0, 1, color = 'r')\n",
    "plt.text(x=1500, y=0.003, s= \"Results Page \\nDisplay Limit\", color = 'r')\n",
    "\n",
    "plot.set_axis_labels(\"Number of Titles (<5000)\")\n",
    "plt.title(\"DensityPlot of Number of Titles per Bottom-Level Category\")\n",
    "\n",
    "#plt.text(x=2000, y=60, s= \"31 Categoires with more than 5000 titles\", color = 'k')\n",
    "#plt.text(x=2000, y=50, s= \"139 Categoires with more than 1200 titles\", color = 'k')\n",
    "\n",
    "#plt.show()\n",
    "plt.savefig(\"./graphics/density_leafs.png\", bbox_inches = 'tight')"
   ]
  },
  {
   "cell_type": "code",
   "execution_count": 34,
   "metadata": {},
   "outputs": [
    {
     "data": {
      "image/png": "[encoded data removed]",
      "text/plain": [
       "<Figure size 360x360 with 1 Axes>"
      ]
     },
     "metadata": {
      "needs_background": "light"
     },
     "output_type": "display_data"
    }
   ],
   "source": [
    "data2 = cat_data[cat_data['leaf_flag']==True]['category_numb_title']\n",
    "plot = sns.displot(data2,log_scale = True)\n",
    "\n",
    "plot.set_axis_labels(\"Number of Titles\")\n",
    "plt.title(\"Histogram of Number of Titles per Bottom-Level Category\")\n",
    "plt.axvline(1200, 0, 0.95, color = 'r')\n",
    "#plt.text(x=1500, y=200, s= \"Results Page \\nDisplay Limit\", color = 'r')\n",
    "\n",
    "#plt.text(x=2000, y=60, s= \"31 Categoires with more than 5000 titles\", color = 'k')\n",
    "#plt.text(x=2000, y=50, s= \"139 Categoires with more than 1200 titles\", color = 'k')\n",
    "\n",
    "\n",
    "plt.show()\n",
    "#plt.savefig(\"./graphics/hist_log_leafs.png\", bbox_inches = 'tight')"
   ]
  },
  {
   "cell_type": "code",
   "execution_count": 24,
   "metadata": {},
   "outputs": [
    {
     "name": "stdout",
     "output_type": "stream",
     "text": [
      "There are 31 leaf categories with more than 5000 titles.\n",
      "There are 139 leaf categories with more than 1200 titles, the display limit.\n"
     ]
    }
   ],
   "source": [
    "large_leafs = cat_data[(cat_data['leaf_flag']==True) &  (cat_data['category_numb_title'] >5000)]['category_numb_title']\n",
    "print(\"There are {} leaf categories with more than 5000 titles.\".format(len(large_leafs)))\n",
    "\n",
    "display_limit_leafs = cat_data[(cat_data['leaf_flag']==True) &  (cat_data['category_numb_title'] >1200)]['category_numb_title']\n",
    "print(\"There are {} leaf categories with more than 1200 titles, the display limit.\".format(len(display_limit_leafs)))"
   ]
  },
  {
   "cell_type": "code",
   "execution_count": 5,
   "metadata": {},
   "outputs": [
    {
     "data": {
      "text/plain": [
       "(869, 7)"
      ]
     },
     "execution_count": 5,
     "metadata": {},
     "output_type": "execute_result"
    }
   ],
   "source": [
    "cat_data[(cat_data['leaf_flag']==True)].shape"
   ]
  },
  {
   "cell_type": "code",
   "execution_count": 41,
   "metadata": {},
   "outputs": [
    {
     "name": "stdout",
     "output_type": "stream",
     "text": [
      "583153 is the upper bound of 'missed' books based on the display limit and number of categories. Likely these larger categories have titles represented in other categories.\n"
     ]
    }
   ],
   "source": [
    "display_limit_leafs = cat_data[(cat_data['leaf_flag']==True) &  (cat_data['category_numb_title'] >1200)]['category_numb_title']\n",
    "string = \"{} is the upper bound of 'missed' books based on the display limit and number of categories. Likely these larger categories have titles represented in other categories.\"\n",
    "print(string.format(sum(display_limit_leafs)))"
   ]
  },
  {
   "cell_type": "markdown",
   "metadata": {},
   "source": [
    "This offers the oppurtunity to expand these leaf-categories into sub-categories which could provide the user more choice. Significantly the top level category of **Erotica** only has two sub-categories **Literature & Fiction** and **Sexual Instruction** which is suprising considering Audible has a feature [specifically targeted](https://qz.com/1116293/audible-is-launching-a-feature-that-lets-you-jump-right-to-the-most-erotic-part-of-an-audiobook/) at this category of audiobooks. My best alternative hypothesis is most **Erotica/Literature & Fiction** titles are also represented in the **Romance** section which is broken down into many sub-categories.  \n",
    "\n",
    "Personal Success might offer an easy split \"Managing your vanity\" and \"How does my hair look?\""
   ]
  },
  {
   "cell_type": "code",
   "execution_count": 54,
   "metadata": {},
   "outputs": [
    {
     "data": {
      "text/html": [
       "<div>\n",
       "<style scoped>\n",
       "    .dataframe tbody tr th:only-of-type {\n",
       "        vertical-align: middle;\n",
       "    }\n",
       "\n",
       "    .dataframe tbody tr th {\n",
       "        vertical-align: top;\n",
       "    }\n",
       "\n",
       "    .dataframe thead th {\n",
       "        text-align: right;\n",
       "    }\n",
       "</style>\n",
       "<table border=\"1\" class=\"dataframe\">\n",
       "  <thead>\n",
       "    <tr style=\"text-align: right;\">\n",
       "      <th></th>\n",
       "      <th>Parent Category</th>\n",
       "      <th>Category Name</th>\n",
       "      <th>Number of Titles</th>\n",
       "    </tr>\n",
       "  </thead>\n",
       "  <tbody>\n",
       "    <tr>\n",
       "      <th>174</th>\n",
       "      <td>Personal Development</td>\n",
       "      <td>Personal Success</td>\n",
       "      <td>26798</td>\n",
       "    </tr>\n",
       "    <tr>\n",
       "      <th>823</th>\n",
       "      <td>Thriller &amp; Suspense</td>\n",
       "      <td>Suspense</td>\n",
       "      <td>26385</td>\n",
       "    </tr>\n",
       "    <tr>\n",
       "      <th>597</th>\n",
       "      <td>Erotica</td>\n",
       "      <td>Literature &amp; Fiction</td>\n",
       "      <td>23118</td>\n",
       "    </tr>\n",
       "    <tr>\n",
       "      <th>251</th>\n",
       "      <td>Romance</td>\n",
       "      <td>Contemporary</td>\n",
       "      <td>20868</td>\n",
       "    </tr>\n",
       "    <tr>\n",
       "      <th>925</th>\n",
       "      <td>Management &amp; Leadership</td>\n",
       "      <td>Leadership</td>\n",
       "      <td>16045</td>\n",
       "    </tr>\n",
       "    <tr>\n",
       "      <th>857</th>\n",
       "      <td>Biographies</td>\n",
       "      <td>Adventurers &amp; Explorers</td>\n",
       "      <td>18</td>\n",
       "    </tr>\n",
       "    <tr>\n",
       "      <th>396</th>\n",
       "      <td>Health, Lifestyle &amp; Relationships</td>\n",
       "      <td>Sexuality &amp; Sexual Health</td>\n",
       "      <td>17</td>\n",
       "    </tr>\n",
       "    <tr>\n",
       "      <th>426</th>\n",
       "      <td>Historical Fiction</td>\n",
       "      <td>Action &amp; Adventure</td>\n",
       "      <td>16</td>\n",
       "    </tr>\n",
       "    <tr>\n",
       "      <th>401</th>\n",
       "      <td>Science Fiction</td>\n",
       "      <td>Anthologies &amp; Short Stories</td>\n",
       "      <td>13</td>\n",
       "    </tr>\n",
       "    <tr>\n",
       "      <th>587</th>\n",
       "      <td>Language Learning</td>\n",
       "      <td>Latin</td>\n",
       "      <td>5</td>\n",
       "    </tr>\n",
       "  </tbody>\n",
       "</table>\n",
       "</div>"
      ],
      "text/plain": [
       "                       Parent Category                Category Name  \\\n",
       "174               Personal Development             Personal Success   \n",
       "823                Thriller & Suspense                     Suspense   \n",
       "597                            Erotica         Literature & Fiction   \n",
       "251                            Romance                 Contemporary   \n",
       "925            Management & Leadership                   Leadership   \n",
       "857                        Biographies      Adventurers & Explorers   \n",
       "396  Health, Lifestyle & Relationships    Sexuality & Sexual Health   \n",
       "426                 Historical Fiction           Action & Adventure   \n",
       "401                    Science Fiction  Anthologies & Short Stories   \n",
       "587                  Language Learning                        Latin   \n",
       "\n",
       "     Number of Titles  \n",
       "174             26798  \n",
       "823             26385  \n",
       "597             23118  \n",
       "251             20868  \n",
       "925             16045  \n",
       "857                18  \n",
       "396                17  \n",
       "426                16  \n",
       "401                13  \n",
       "587                 5  "
      ]
     },
     "execution_count": 54,
     "metadata": {},
     "output_type": "execute_result"
    }
   ],
   "source": [
    "# Top and bottom categories\n",
    "data2      = cat_data[cat_data['leaf_flag']==True]\n",
    "top_       = data2.sort_values('category_numb_title',ascending = False).head(5)\n",
    "bottom_    = data2.sort_values('category_numb_title',ascending = False).tail(5)\n",
    "top_bottom = pd.concat([top_,bottom_]).filter(items = ['parent_category','category_name','category_numb_title'])\n",
    "top_bottom.columns = ['Parent Category','Category Name', 'Number of Titles']\n",
    "\n",
    "#Get URL\n",
    "#top_bottom = pd.concat([top_,bottom_]).filter(items = ['parent_category','category_name','category_numb_title', 'self_url'])\n",
    "#top_bottom.columns = ['Parent Category','Category Name', 'Number of Titles', 'Category URL']\n",
    "#print(top_bottom.to_string())\n",
    "\n",
    "top_bottom"
   ]
  },
  {
   "cell_type": "markdown",
   "metadata": {},
   "source": [
    "426 : Teen / Lit & Fic / Historical Fiction / A & A\n",
    "\n",
    "401 : Teen / Scifi & Fantasy / SciFi / Anthology...\n",
    "\n"
   ]
  },
  {
   "cell_type": "markdown",
   "metadata": {},
   "source": [
    "#### Network Visualization"
   ]
  },
  {
   "cell_type": "code",
   "execution_count": 96,
   "metadata": {},
   "outputs": [],
   "source": [
    "# adding a false entry to make assignments easier. \n",
    "cat_data = cat_data.append({'category_name':\"Audible\", \n",
    "                            'category_numb_title':361480, \n",
    "                            'parent_category':\"\", \n",
    "                            'self_url':\"https://www.audible.com/categories\",\n",
    "                            'title_list_url':\"\",\n",
    "                            'parent_url':\"\",\n",
    "                            'leaf_flag': False},\n",
    "                           ignore_index = True)\n",
    "\n",
    "#Creating new column for better node visualization\n",
    "cat_data['log_numb_title'] = np.log(cat_data['category_numb_title'])\n",
    "cat_data['scaled_numb_title'] = np.interp(cat_data.category_numb_title,\n",
    "                                         (cat_data.category_numb_title.min(),\n",
    "                                         cat_data.category_numb_title.max()),\n",
    "                                         (1,300))\n",
    "cat_data['scaled_log_numb_title'] = np.interp(cat_data.log_numb_title,\n",
    "                                         (cat_data.log_numb_title.min(),\n",
    "                                         cat_data.log_numb_title.max()),\n",
    "                                         (1,300))"
   ]
  },
  {
   "cell_type": "code",
   "execution_count": 3,
   "metadata": {},
   "outputs": [
    {
     "ename": "ValueError",
     "evalue": "Received invalid argument(s): layout",
     "output_type": "error",
     "traceback": [
      "\u001b[1;31m---------------------------------------------------------------------------\u001b[0m",
      "\u001b[1;31mValueError\u001b[0m                                Traceback (most recent call last)",
      "\u001b[1;32m<ipython-input-3-49a39fc8b2c8>\u001b[0m in \u001b[0;36m<module>\u001b[1;34m\u001b[0m\n\u001b[0;32m     14\u001b[0m         \u001b[1;31m#node_size   = node_info['scaled_log_numb_title'], #visable points, too small\u001b[0m\u001b[1;33m\u001b[0m\u001b[1;33m\u001b[0m\u001b[1;33m\u001b[0m\u001b[0m\n\u001b[0;32m     15\u001b[0m         \u001b[1;31m#pos         = nx.fruchterman_reingold_layout(graph) #doesnt seem to work\u001b[0m\u001b[1;33m\u001b[0m\u001b[1;33m\u001b[0m\u001b[1;33m\u001b[0m\u001b[0m\n\u001b[1;32m---> 16\u001b[1;33m         \u001b[0mlayout\u001b[0m       \u001b[1;33m=\u001b[0m \u001b[0mnx\u001b[0m\u001b[1;33m.\u001b[0m\u001b[0mkamada_kawai_layout\u001b[0m\u001b[1;33m(\u001b[0m\u001b[0mgraph\u001b[0m\u001b[1;33m)\u001b[0m \u001b[1;31m#doesnt quite work\u001b[0m\u001b[1;33m\u001b[0m\u001b[1;33m\u001b[0m\u001b[0m\n\u001b[0m\u001b[0;32m     17\u001b[0m        )\n\u001b[0;32m     18\u001b[0m \u001b[1;31m#plt.rcParams['figure.figsize'] = (50,50)\u001b[0m\u001b[1;33m\u001b[0m\u001b[1;33m\u001b[0m\u001b[1;33m\u001b[0m\u001b[0m\n",
      "\u001b[1;32mc:\\users\\james\\dropbox\\nydsa\\projects\\web scraping\\finding_the_tree_in_the_forest\\env\\lib\\site-packages\\networkx\\drawing\\nx_pylab.py\u001b[0m in \u001b[0;36mdraw\u001b[1;34m(G, pos, ax, **kwds)\u001b[0m\n\u001b[0;32m    121\u001b[0m         \u001b[0mkwds\u001b[0m\u001b[1;33m[\u001b[0m\u001b[1;34m\"with_labels\"\u001b[0m\u001b[1;33m]\u001b[0m \u001b[1;33m=\u001b[0m \u001b[1;34m\"labels\"\u001b[0m \u001b[1;32min\u001b[0m \u001b[0mkwds\u001b[0m\u001b[1;33m\u001b[0m\u001b[1;33m\u001b[0m\u001b[0m\n\u001b[0;32m    122\u001b[0m \u001b[1;33m\u001b[0m\u001b[0m\n\u001b[1;32m--> 123\u001b[1;33m     \u001b[0mdraw_networkx\u001b[0m\u001b[1;33m(\u001b[0m\u001b[0mG\u001b[0m\u001b[1;33m,\u001b[0m \u001b[0mpos\u001b[0m\u001b[1;33m=\u001b[0m\u001b[0mpos\u001b[0m\u001b[1;33m,\u001b[0m \u001b[0max\u001b[0m\u001b[1;33m=\u001b[0m\u001b[0max\u001b[0m\u001b[1;33m,\u001b[0m \u001b[1;33m**\u001b[0m\u001b[0mkwds\u001b[0m\u001b[1;33m)\u001b[0m\u001b[1;33m\u001b[0m\u001b[1;33m\u001b[0m\u001b[0m\n\u001b[0m\u001b[0;32m    124\u001b[0m     \u001b[0max\u001b[0m\u001b[1;33m.\u001b[0m\u001b[0mset_axis_off\u001b[0m\u001b[1;33m(\u001b[0m\u001b[1;33m)\u001b[0m\u001b[1;33m\u001b[0m\u001b[1;33m\u001b[0m\u001b[0m\n\u001b[0;32m    125\u001b[0m     \u001b[0mplt\u001b[0m\u001b[1;33m.\u001b[0m\u001b[0mdraw_if_interactive\u001b[0m\u001b[1;33m(\u001b[0m\u001b[1;33m)\u001b[0m\u001b[1;33m\u001b[0m\u001b[1;33m\u001b[0m\u001b[0m\n",
      "\u001b[1;32mc:\\users\\james\\dropbox\\nydsa\\projects\\web scraping\\finding_the_tree_in_the_forest\\env\\lib\\site-packages\\networkx\\drawing\\nx_pylab.py\u001b[0m in \u001b[0;36mdraw_networkx\u001b[1;34m(G, pos, arrows, with_labels, **kwds)\u001b[0m\n\u001b[0;32m    324\u001b[0m     \u001b[1;32mif\u001b[0m \u001b[0many\u001b[0m\u001b[1;33m(\u001b[0m\u001b[1;33m[\u001b[0m\u001b[0mk\u001b[0m \u001b[1;32mnot\u001b[0m \u001b[1;32min\u001b[0m \u001b[0mvalid_kwds\u001b[0m \u001b[1;32mfor\u001b[0m \u001b[0mk\u001b[0m \u001b[1;32min\u001b[0m \u001b[0mkwds\u001b[0m\u001b[1;33m]\u001b[0m\u001b[1;33m)\u001b[0m\u001b[1;33m:\u001b[0m\u001b[1;33m\u001b[0m\u001b[1;33m\u001b[0m\u001b[0m\n\u001b[0;32m    325\u001b[0m         \u001b[0minvalid_args\u001b[0m \u001b[1;33m=\u001b[0m \u001b[1;34m\", \"\u001b[0m\u001b[1;33m.\u001b[0m\u001b[0mjoin\u001b[0m\u001b[1;33m(\u001b[0m\u001b[1;33m[\u001b[0m\u001b[0mk\u001b[0m \u001b[1;32mfor\u001b[0m \u001b[0mk\u001b[0m \u001b[1;32min\u001b[0m \u001b[0mkwds\u001b[0m \u001b[1;32mif\u001b[0m \u001b[0mk\u001b[0m \u001b[1;32mnot\u001b[0m \u001b[1;32min\u001b[0m \u001b[0mvalid_kwds\u001b[0m\u001b[1;33m]\u001b[0m\u001b[1;33m)\u001b[0m\u001b[1;33m\u001b[0m\u001b[1;33m\u001b[0m\u001b[0m\n\u001b[1;32m--> 326\u001b[1;33m         \u001b[1;32mraise\u001b[0m \u001b[0mValueError\u001b[0m\u001b[1;33m(\u001b[0m\u001b[1;34mf\"Received invalid argument(s): {invalid_args}\"\u001b[0m\u001b[1;33m)\u001b[0m\u001b[1;33m\u001b[0m\u001b[1;33m\u001b[0m\u001b[0m\n\u001b[0m\u001b[0;32m    327\u001b[0m \u001b[1;33m\u001b[0m\u001b[0m\n\u001b[0;32m    328\u001b[0m     \u001b[0mnode_kwds\u001b[0m \u001b[1;33m=\u001b[0m \u001b[1;33m{\u001b[0m\u001b[0mk\u001b[0m\u001b[1;33m:\u001b[0m \u001b[0mv\u001b[0m \u001b[1;32mfor\u001b[0m \u001b[0mk\u001b[0m\u001b[1;33m,\u001b[0m \u001b[0mv\u001b[0m \u001b[1;32min\u001b[0m \u001b[0mkwds\u001b[0m\u001b[1;33m.\u001b[0m\u001b[0mitems\u001b[0m\u001b[1;33m(\u001b[0m\u001b[1;33m)\u001b[0m \u001b[1;32mif\u001b[0m \u001b[0mk\u001b[0m \u001b[1;32min\u001b[0m \u001b[0mvalid_node_kwds\u001b[0m\u001b[1;33m}\u001b[0m\u001b[1;33m\u001b[0m\u001b[1;33m\u001b[0m\u001b[0m\n",
      "\u001b[1;31mValueError\u001b[0m: Received invalid argument(s): layout"
     ]
    },
    {
     "data": {
      "image/png": "[encoded data removed]",
      "text/plain": [
       "<Figure size 432x288 with 1 Axes>"
      ]
     },
     "metadata": {},
     "output_type": "display_data"
    }
   ],
   "source": [
    "graph = nx.from_pandas_edgelist(cat_data, 'parent_url','self_url', create_using=nx.DiGraph())\n",
    "\n",
    "node_info = cat_data.set_index('self_url').reindex(graph.nodes())\n",
    "#node_dic  = node_info.filter(['category_name']).T.to_dict('dict')\n",
    "\n",
    "nx.draw(graph, \n",
    "        with_labels = False,\n",
    "        labels      = node_info['category_name'],\n",
    "        arrows      = True,\n",
    "        #node_color  = node_info['category_numb_title'],\n",
    "        node_size   = node_info['category_numb_title'], # pretty good\n",
    "        #node_size   = node_info['log_numb_title'], # very small points, \n",
    "        #node_size   = node_info['scaled_numb_title'], # very small points\n",
    "        #node_size   = node_info['scaled_log_numb_title'], #visable points, too small\n",
    "        #pos         = nx.fruchterman_reingold_layout(graph) #doesnt seem to work\n",
    "        layout       = nx.kamada_kawai_layout(graph) #doesnt quite work\n",
    "       )\n",
    "#plt.rcParams['figure.figsize'] = (50,50)\n",
    "plt.title(\"Audible Categories\")\n",
    "#plt.show()\n",
    "#plt.savefig(\"category_network.png\")\n",
    "\n",
    "\n"
   ]
  },
  {
   "cell_type": "markdown",
   "metadata": {},
   "source": [
    "https://stackoverflow.com/questions/40092390/network-graph-is-not-visually-optimized-in-networkx"
   ]
  },
  {
   "cell_type": "code",
   "execution_count": 9,
   "metadata": {},
   "outputs": [
    {
     "name": "stderr",
     "output_type": "stream",
     "text": [
      "Warning: graph has 1050 nodes...layout may take a long time.\n",
      "Warning: graph has 1050 nodes...layout may take a long time.\n"
     ]
    }
   ],
   "source": [
    "import graphviz\n",
    "import pygraphviz\n",
    "from networkx.drawing.nx_agraph import to_agraph\n",
    "\n",
    "edges = list(zip(cat_data.parent_url, cat_data.self_url))\n",
    "\n",
    "\n",
    "labels = dict(zip(cat_data.self_url,cat_data.category_name))\n",
    "\n",
    "\n",
    "G = nx.DiGraph() # Create an empty Graph\n",
    "\n",
    "for k,v in labels.items():\n",
    "    G.add_node(k,label=v)\n",
    "G.add_edges_from(edges)\n",
    "\n",
    "A = to_agraph(G)\n",
    "\n",
    "A.draw('hier_categories.png', prog='dot') # Hierarchical\n",
    "A.draw('circular_categories.png', prog='neato') #circular"
   ]
  },
  {
   "cell_type": "code",
   "execution_count": null,
   "metadata": {},
   "outputs": [],
   "source": [
    "import graphviz\n",
    "import pygraphviz\n",
    "from networkx.drawing.nx_agraph import to_agraph\n",
    "\n",
    "cat_data = cat_data.append({'category_name':\"Audible\", \n",
    "                            'category_numb_title':361480, \n",
    "                            'parent_category':\"\", \n",
    "                            'self_url':\"https://www.audible.com/categories\",\n",
    "                            'title_list_url':\"\",\n",
    "                            'parent_url':\"\",\n",
    "                            'leaf_flag': False},\n",
    "                           ignore_index = True)\n",
    "\n",
    "graph = nx.DiGraph()\n",
    "graph.add_nodes_from()\n",
    "graph.add_edges_from()\n"
   ]
  },
  {
   "cell_type": "markdown",
   "metadata": {},
   "source": [
    "# SOME EDA ABOUT THE categories"
   ]
  },
  {
   "cell_type": "markdown",
   "metadata": {},
   "source": [
    "# Title information"
   ]
  },
  {
   "cell_type": "markdown",
   "metadata": {},
   "source": [
    "#### Cleaning Duplicates and Filtering Podcasts\n",
    "Since Audible treats categories more like tags, most titles belonging to multiple, there is a significant number of duplicated titles and information. \n",
    "\n",
    "\n",
    "Podcasts are also present in our data, which I didn't know Audible offered, but since they are not the focus of the scraping they are discarded. "
   ]
  },
  {
   "cell_type": "code",
   "execution_count": 35,
   "metadata": {},
   "outputs": [
    {
     "name": "stdout",
     "output_type": "stream",
     "text": [
      "Number of titles scraped:  622065\n",
      "Number of unique titles (books+pods):  286200\n",
      "Unique Podcasts:  6959\n",
      "Unique Books:  279241\n"
     ]
    },
    {
     "data": {
      "image/png": "[encoded data removed]",
      "text/plain": [
       "<Figure size 432x288 with 1 Axes>"
      ]
     },
     "metadata": {
      "needs_background": "light"
     },
     "output_type": "display_data"
    }
   ],
   "source": [
    "print(\"Number of titles scraped: \", len(title_data.title_url) )\n",
    "print(\"Number of unique titles (books+pods): \", len(np.unique(title_data.title_url)))\n",
    "print(\"Unique Podcasts: \",len(np.unique(title_data.title_url[title_data.pod_flag == True])))\n",
    "print(\"Unique Books: \",len(np.unique(title_data.title_url[title_data.pod_flag == False])))\n",
    "\n",
    "data = np.where(title_data.drop_duplicates(subset = ['title_url'])['pod_flag'] == True, \"Podcasts\", \"Audiobooks\" )\n",
    "sns.countplot(x=data).set(xlabel=\"Type of Audio\", ylabel = \"Number of Titles\")\n",
    "\n",
    "plt.title(\"Media Representation in Scraped Audible Titles\")\n",
    "\n",
    "plt.savefig(\"./graphics/media_types.png\", bbox_inches = 'tight')"
   ]
  },
  {
   "cell_type": "code",
   "execution_count": 36,
   "metadata": {},
   "outputs": [],
   "source": [
    "# Remove podcasts from dataframe\n",
    "title_data = title_data.loc[title_data.pod_flag == False]"
   ]
  },
  {
   "cell_type": "markdown",
   "metadata": {},
   "source": [
    "Due to titles appearing in multiple categories, other fields were effected which were cleaned in the following manner.\n",
    "- **title_category**: collapsed into a list.\n",
    "- **count_rating**: max value retained.  \n",
    "- **star_rating**: max value retained.\n",
    "- **release_date**: max value retained. I believe this is due to reuploading into a new category.\n",
    "- **length**: max value retained. I believe this is due to reuploading into a new category.\n",
    "- **category_number**: New Column, number of categories a title was scraped in."
   ]
  },
  {
   "cell_type": "code",
   "execution_count": 37,
   "metadata": {},
   "outputs": [
    {
     "data": {
      "text/plain": [
       "'This leaves 279241 books remaining, compared to the +200,000 reported publically by Audible'"
      ]
     },
     "execution_count": 37,
     "metadata": {},
     "output_type": "execute_result"
    }
   ],
   "source": [
    "group_bys = list(title_data.columns)\n",
    "group_bys.remove(\"title_category\")\n",
    "group_bys.remove(\"star_rating\")\n",
    "group_bys.remove(\"count_rating\")\n",
    "group_bys.remove(\"release_date\")\n",
    "group_bys.remove(\"length\")\n",
    "\n",
    "titles = title_data.groupby(group_bys, dropna = False).agg({\n",
    "                                              'release_date'  :'max',\n",
    "                                              'length'        :'max',\n",
    "                                              'star_rating'   :'max', \n",
    "                                              'count_rating'  :'max',\n",
    "                                              'title_category': lambda x: list(x)}\n",
    "                                            ).reset_index()\n",
    "\n",
    "titles['category_number'] = titles['title_category'].str.len()\n",
    "\n",
    "\n",
    "\n",
    "\"This leaves {} books remaining, compared to the +200,000 reported publically by Audible\".format(len(np.unique(titles.title_url)))"
   ]
  },
  {
   "cell_type": "code",
   "execution_count": 328,
   "metadata": {},
   "outputs": [],
   "source": [
    "titles['author']   = [x.split(',') for x in titles.author.replace(np.nan,\"\")]\n",
    "titles['narrator'] = [x.split(',') for x in titles.narrator.replace(np.nan,\"\")]\n",
    "\n",
    "titles['pub_datetime'] = pd.to_datetime(titles.release_date, format='%m-%d-%y')\n",
    "titles['cumm_lang_pub'] = titles.sort_values('pub_datetime', ascending = True).groupby('language',dropna=True).cumcount()"
   ]
  },
  {
   "cell_type": "markdown",
   "metadata": {},
   "source": [
    "# EXAMINE NAs"
   ]
  },
  {
   "cell_type": "markdown",
   "metadata": {},
   "source": [
    "#### Some fun facts"
   ]
  },
  {
   "cell_type": "code",
   "execution_count": 7,
   "metadata": {},
   "outputs": [],
   "source": [
    "# To help make printing easier\n",
    "def full_title(row):\n",
    "    row = row.fillna(\"\")\n",
    "    return (\"{0}: {1} written by {2}, narrated by {3}\".format(row.title.values[0], row.subtitle.values[0], row.author.values[0], row.narrator.values[0]))"
   ]
  },
  {
   "cell_type": "code",
   "execution_count": 57,
   "metadata": {},
   "outputs": [],
   "source": [
    "#titles.sort_values('count_rating', ascending=False).head(3).set_index(\"count_rating\").apply(full_title,axis=1).reset_index().columns(\"Number of Ratings\",\"Title Info\")\n",
    "\n",
    "top_counts = titles.sort_values('count_rating', ascending=False).head(3)\n",
    "top_rating = titles[titles.star_rating == 5].sort_values('count_rating', ascending=False).head(3)\n",
    "expensive  = titles.sort_values('price', ascending = False).head(3)\n",
    "cheap      = titles.sort_values('price', ascending = True).head(3)\n",
    "\n"
   ]
  },
  {
   "cell_type": "code",
   "execution_count": null,
   "metadata": {},
   "outputs": [],
   "source": []
  },
  {
   "cell_type": "code",
   "execution_count": 34,
   "metadata": {},
   "outputs": [
    {
     "ename": "NameError",
     "evalue": "name 'titles' is not defined",
     "output_type": "error",
     "traceback": [
      "\u001b[1;31m---------------------------------------------------------------------------\u001b[0m",
      "\u001b[1;31mNameError\u001b[0m                                 Traceback (most recent call last)",
      "\u001b[1;32m<ipython-input-34-4ddaf7c50ace>\u001b[0m in \u001b[0;36m<module>\u001b[1;34m\u001b[0m\n\u001b[1;32m----> 1\u001b[1;33m \u001b[0mdata\u001b[0m \u001b[1;33m=\u001b[0m \u001b[0mtitles\u001b[0m\u001b[1;33m[\u001b[0m\u001b[1;34m'category_number'\u001b[0m\u001b[1;33m]\u001b[0m\u001b[1;33m\u001b[0m\u001b[1;33m\u001b[0m\u001b[0m\n\u001b[0m\u001b[0;32m      2\u001b[0m \u001b[0mplot\u001b[0m \u001b[1;33m=\u001b[0m \u001b[0msns\u001b[0m\u001b[1;33m.\u001b[0m\u001b[0mhistplot\u001b[0m\u001b[1;33m(\u001b[0m\u001b[0mdata\u001b[0m\u001b[1;33m,\u001b[0m \u001b[0mcolor\u001b[0m \u001b[1;33m=\u001b[0m \u001b[1;34m'k'\u001b[0m\u001b[1;33m)\u001b[0m\u001b[1;33m\u001b[0m\u001b[1;33m\u001b[0m\u001b[0m\n\u001b[0;32m      3\u001b[0m \u001b[1;33m\u001b[0m\u001b[0m\n\u001b[0;32m      4\u001b[0m \u001b[0mplot\u001b[0m\u001b[1;33m.\u001b[0m\u001b[0mset_axis_labels\u001b[0m\u001b[1;33m(\u001b[0m\u001b[1;34m\"Number of Categories Title appears in\"\u001b[0m\u001b[1;33m)\u001b[0m\u001b[1;33m\u001b[0m\u001b[1;33m\u001b[0m\u001b[0m\n\u001b[0;32m      5\u001b[0m \u001b[0mplt\u001b[0m\u001b[1;33m.\u001b[0m\u001b[0mshow\u001b[0m\u001b[1;33m(\u001b[0m\u001b[1;33m)\u001b[0m\u001b[1;33m\u001b[0m\u001b[1;33m\u001b[0m\u001b[0m\n",
      "\u001b[1;31mNameError\u001b[0m: name 'titles' is not defined"
     ]
    }
   ],
   "source": [
    "data = titles['category_number']\n",
    "plot = sns.histplot(data, color = 'k')\n",
    "\n",
    "plot.set_axis_labels(\"Number of Categories Title appears in\")\n",
    "plt.show()"
   ]
  },
  {
   "cell_type": "code",
   "execution_count": 139,
   "metadata": {},
   "outputs": [
    {
     "data": {
      "text/html": [
       "<div>\n",
       "<style scoped>\n",
       "    .dataframe tbody tr th:only-of-type {\n",
       "        vertical-align: middle;\n",
       "    }\n",
       "\n",
       "    .dataframe tbody tr th {\n",
       "        vertical-align: top;\n",
       "    }\n",
       "\n",
       "    .dataframe thead th {\n",
       "        text-align: right;\n",
       "    }\n",
       "</style>\n",
       "<table border=\"1\" class=\"dataframe\">\n",
       "  <thead>\n",
       "    <tr style=\"text-align: right;\">\n",
       "      <th></th>\n",
       "      <th>author</th>\n",
       "      <th>language</th>\n",
       "      <th>narrator</th>\n",
       "      <th>pod_flag</th>\n",
       "      <th>price</th>\n",
       "      <th>subtitle</th>\n",
       "      <th>title</th>\n",
       "      <th>title_url</th>\n",
       "      <th>release_date</th>\n",
       "      <th>length</th>\n",
       "      <th>star_rating</th>\n",
       "      <th>count_rating</th>\n",
       "      <th>title_category</th>\n",
       "      <th>category_number</th>\n",
       "    </tr>\n",
       "  </thead>\n",
       "  <tbody>\n",
       "    <tr>\n",
       "      <th>260381</th>\n",
       "      <td>Timothy Snyder</td>\n",
       "      <td>English</td>\n",
       "      <td>Ralph Cosham</td>\n",
       "      <td>False</td>\n",
       "      <td>29.95</td>\n",
       "      <td>Europe Between Hitler and Stalin</td>\n",
       "      <td>Bloodlands</td>\n",
       "      <td>https://www.audible.com/pd/Bloodlands-Audioboo...</td>\n",
       "      <td>10-12-18</td>\n",
       "      <td>1096</td>\n",
       "      <td>5.0</td>\n",
       "      <td>390.0</td>\n",
       "      <td>[United States, Austria &amp; Hungary, Russia, Gre...</td>\n",
       "      <td>39</td>\n",
       "    </tr>\n",
       "    <tr>\n",
       "      <th>241047</th>\n",
       "      <td>Sherry Turkle</td>\n",
       "      <td>English</td>\n",
       "      <td>Laural Merlington</td>\n",
       "      <td>False</td>\n",
       "      <td>31.49</td>\n",
       "      <td>Why We Expect More from Technology and Less fr...</td>\n",
       "      <td>Alone Together</td>\n",
       "      <td>https://www.audible.com/pd/Alone-Together-Audi...</td>\n",
       "      <td>05-10-11</td>\n",
       "      <td>885</td>\n",
       "      <td>3.5</td>\n",
       "      <td>210.0</td>\n",
       "      <td>[Philosophy, Workplace Culture, Workplace &amp; Or...</td>\n",
       "      <td>35</td>\n",
       "    </tr>\n",
       "    <tr>\n",
       "      <th>30885</th>\n",
       "      <td>Brendan Simms</td>\n",
       "      <td>English</td>\n",
       "      <td>Leighton Pugh</td>\n",
       "      <td>False</td>\n",
       "      <td>30.79</td>\n",
       "      <td>A Global Biography</td>\n",
       "      <td>Hitler</td>\n",
       "      <td>https://www.audible.com/pd/Hitler-Audiobook/15...</td>\n",
       "      <td>10-01-19</td>\n",
       "      <td>1757</td>\n",
       "      <td>4.5</td>\n",
       "      <td>46.0</td>\n",
       "      <td>[Japan, Austria &amp; Hungary, Asia, Russia, Italy...</td>\n",
       "      <td>33</td>\n",
       "    </tr>\n",
       "  </tbody>\n",
       "</table>\n",
       "</div>"
      ],
      "text/plain": [
       "                author language           narrator  pod_flag  price  \\\n",
       "260381  Timothy Snyder  English       Ralph Cosham     False  29.95   \n",
       "241047   Sherry Turkle  English  Laural Merlington     False  31.49   \n",
       "30885    Brendan Simms  English      Leighton Pugh     False  30.79   \n",
       "\n",
       "                                                 subtitle           title  \\\n",
       "260381                   Europe Between Hitler and Stalin      Bloodlands   \n",
       "241047  Why We Expect More from Technology and Less fr...  Alone Together   \n",
       "30885                                  A Global Biography          Hitler   \n",
       "\n",
       "                                                title_url release_date  \\\n",
       "260381  https://www.audible.com/pd/Bloodlands-Audioboo...     10-12-18   \n",
       "241047  https://www.audible.com/pd/Alone-Together-Audi...     05-10-11   \n",
       "30885   https://www.audible.com/pd/Hitler-Audiobook/15...     10-01-19   \n",
       "\n",
       "        length  star_rating  count_rating  \\\n",
       "260381    1096          5.0         390.0   \n",
       "241047     885          3.5         210.0   \n",
       "30885     1757          4.5          46.0   \n",
       "\n",
       "                                           title_category  category_number  \n",
       "260381  [United States, Austria & Hungary, Russia, Gre...               39  \n",
       "241047  [Philosophy, Workplace Culture, Workplace & Or...               35  \n",
       "30885   [Japan, Austria & Hungary, Asia, Russia, Italy...               33  "
      ]
     },
     "execution_count": 139,
     "metadata": {},
     "output_type": "execute_result"
    }
   ],
   "source": [
    "titles.sort_values('category_number', ascending = False).head(3)"
   ]
  },
  {
   "cell_type": "code",
   "execution_count": 45,
   "metadata": {},
   "outputs": [
    {
     "data": {
      "text/plain": [
       "<AxesSubplot:xlabel='category_number', ylabel='star_rating'>"
      ]
     },
     "execution_count": 45,
     "metadata": {},
     "output_type": "execute_result"
    },
    {
     "data": {
      "image/png": "[encoded data removed]",
      "text/plain": [
       "<Figure size 1512x288 with 3 Axes>"
      ]
     },
     "metadata": {
      "needs_background": "light"
     },
     "output_type": "display_data"
    }
   ],
   "source": [
    "# price, reviews, rating by category number\n",
    "#popular \n",
    "\n",
    "#sns.FacetGrid(titles, col = )\n",
    "\n",
    "heat_data = zip(titles.category_number, )\n",
    "\n",
    "fig, axs = plt.subplots(ncols=3)\n",
    "fig.set_figwidth(21)\n",
    "sns.scatterplot(x=titles.category_number,\n",
    "                y=titles.price,\n",
    "                ax= axs[0])\n",
    "sns.scatterplot(x=titles.category_number,\n",
    "                y=titles.count_rating,\n",
    "                ax= axs[1])\n",
    "sns.scatterplot(x=titles.category_number,\n",
    "                y=titles.star_rating,\n",
    "                ax= axs[2])\n",
    "\n",
    "\n",
    "# use density plots"
   ]
  },
  {
   "cell_type": "markdown",
   "metadata": {},
   "source": [
    "- most prolific author, narrator\n",
    "- author in most categories?\n",
    "- narrator by category\n",
    "- length vs price vs star/count\n",
    "- space for audio dramas?\n",
    "- category timeseries\n",
    "- heard >3 hours is better than <3?\n",
    "- https://news.ycombinator.com/item?id=27108326 \n",
    "- price vs audible subscription price.\n",
    "- increase in author being narrator\n",
    "- length per price (bang for the buck)\n",
    "- length of title/subtitle?"
   ]
  },
  {
   "cell_type": "markdown",
   "metadata": {},
   "source": [
    "### Languages"
   ]
  },
  {
   "cell_type": "code",
   "execution_count": 69,
   "metadata": {},
   "outputs": [
    {
     "name": "stdout",
     "output_type": "stream",
     "text": [
      "There are 44 languages represented in Audible's library.\n"
     ]
    }
   ],
   "source": [
    "s         = \"There are {} languages represented in Audible's library.\"\n",
    "numb_lang = len(titles.language.unique())\n",
    "\n",
    "print(s.format(numb_lang))"
   ]
  },
  {
   "cell_type": "markdown",
   "metadata": {},
   "source": [
    "A large majority of audiobooks are narrated and avalible in English."
   ]
  },
  {
   "cell_type": "code",
   "execution_count": 189,
   "metadata": {},
   "outputs": [
    {
     "data": {
      "image/png": "[encoded data removed]",
      "text/plain": [
       "<Figure size 576x576 with 1 Axes>"
      ]
     },
     "metadata": {
      "needs_background": "light"
     },
     "output_type": "display_data"
    }
   ],
   "source": [
    "plot = sns.countplot(x='language', \n",
    "                     data = titles, \n",
    "                     order = titles['language'].value_counts().index)\n",
    "\n",
    "plot.set_yscale('log')\n",
    "plot.set_xlabel(\"Language of Audiobook\")\n",
    "plot.set_ylabel(\"Number of Audiobooks\")\n",
    "plot.axhline(y = 100)\n",
    "\n",
    "plt.xticks(rotation =90)\n",
    "yticks = [1,10,100,1000,10000,100000]\n",
    "plot.set_yticks(yticks)\n",
    "plot.set_yticklabels(yticks)\n",
    "\n",
    "plt.title(\"Number of Audiobooks by Language\")\n",
    "plt.rcParams['figure.figsize'] = (8,8)\n",
    "\n",
    "plt.savefig(\"./graphics/languages.png\", bbox_inches = 'tight')"
   ]
  },
  {
   "cell_type": "markdown",
   "metadata": {},
   "source": [
    "English language audiobooks are the fastest language and show no signs of stopping. We can even see the expected releases in the comming years. "
   ]
  },
  {
   "cell_type": "code",
   "execution_count": 187,
   "metadata": {},
   "outputs": [
    {
     "data": {
      "image/png": "[encoded data removed]",
      "text/plain": [
       "<Figure size 576x576 with 1 Axes>"
      ]
     },
     "metadata": {
      "needs_background": "light"
     },
     "output_type": "display_data"
    }
   ],
   "source": [
    "titles['pub_datetime'] = pd.to_datetime(titles.release_date, format='%m-%d-%y')\n",
    "titles['cumm_lang_pub'] = titles.sort_values('pub_datetime', ascending = True).groupby('language',dropna=True).cumcount()\n",
    "\n",
    "plot = sns.lineplot(data= titles, \n",
    "             x   = 'pub_datetime', \n",
    "             y   = 'cumm_lang_pub',\n",
    "             hue = 'language',\n",
    "             ci  = None)\n",
    "\n",
    "plt.title(\"Cummulative Audiobooks by Language\")\n",
    "plot.set_xlabel(\"Audible Release Date\")\n",
    "plot.set_ylabel(\"Cummulative Audiobooks Released\")\n",
    "plot.legend(title = \"Language of Audiobook\",\n",
    "            loc='center right', \n",
    "            bbox_to_anchor=(1.63, 0.5), \n",
    "            ncol=2)\n",
    "\n",
    "plot.axvline(x=pd.to_datetime(\"2021-05-10\"),ymin=0,ymax=1, color = 'k')\n",
    "plot.text(pd.to_datetime(\"2018-05-10\"),240000, \"Scrape \\nDate\", color ='k')\n",
    "\n",
    "plt.savefig(\"./graphics/lang_timeseries.png\", bbox_inches = 'tight')\n"
   ]
  },
  {
   "cell_type": "markdown",
   "metadata": {},
   "source": [
    "### Author as Narrator"
   ]
  },
  {
   "cell_type": "code",
   "execution_count": 216,
   "metadata": {},
   "outputs": [
    {
     "name": "stdout",
     "output_type": "stream",
     "text": [
      "Tariq Ben Nuriddin Porter\n",
      "'Abd Allah Al-Qar'awi\n"
     ]
    }
   ],
   "source": [
    "print(titles.narrator[4])\n",
    "print(titles.author[4])"
   ]
  },
  {
   "cell_type": "code",
   "execution_count": 329,
   "metadata": {},
   "outputs": [],
   "source": [
    "def are_you_me(author, narrator):\n",
    "    if not isinstance(author, (str,list)) or not isinstance(narrator,(list,str)):\n",
    "        return False\n",
    "    if isinstance(author,str):\n",
    "        author = [author]\n",
    "    if isinstance(narrator,str):\n",
    "        narrator = [narrator]\n",
    "        \n",
    "    print(narrator)\n",
    "    print(author)\n",
    "    return all([x in author for x in narrator])\n",
    "        \n",
    "        "
   ]
  },
  {
   "cell_type": "code",
   "execution_count": 330,
   "metadata": {},
   "outputs": [
    {
     "data": {
      "text/plain": [
       "['(in)Courage', 'Grace Cho - editor', 'Anna Rendell - editor']"
      ]
     },
     "execution_count": 330,
     "metadata": {},
     "output_type": "execute_result"
    }
   ],
   "source": [
    "titles.author[5]"
   ]
  },
  {
   "cell_type": "code",
   "execution_count": 332,
   "metadata": {},
   "outputs": [
    {
     "name": "stdout",
     "output_type": "stream",
     "text": [
      "['\"Sharkey\" Ward'] |||| ['Nigel D MacCartan-Ward DSC AFC']\n",
      "['Nigel D MacCartan-Ward DSC AFC']\n",
      "['\"Sharkey\" Ward']\n",
      "False\n",
      "['\"Triathlon Taren\" Gesell'] |||| ['\"Triathlon Taren\" Gesell']\n",
      "['\"Triathlon Taren\" Gesell']\n",
      "['\"Triathlon Taren\" Gesell']\n",
      "True\n",
      "['\"Triathlon Taren\" Gesell'] |||| ['Taren Gesell']\n",
      "['Taren Gesell']\n",
      "['\"Triathlon Taren\" Gesell']\n",
      "False\n",
      "['\"Triathlon\" Taren Gesell'] |||| ['Taren Gesell']\n",
      "['Taren Gesell']\n",
      "['\"Triathlon\" Taren Gesell']\n",
      "False\n",
      "[\"'Abd Allah Al-Qar'awi\"] |||| ['Tariq Ben Nuriddin Porter']\n",
      "['Tariq Ben Nuriddin Porter']\n",
      "[\"'Abd Allah Al-Qar'awi\"]\n",
      "False\n",
      "['(in)Courage', 'Grace Cho - editor', 'Anna Rendell - editor'] |||| ['Susan Hanfield', 'Machelle Williams']\n",
      "['Susan Hanfield', 'Machelle Williams']\n",
      "['(in)Courage', 'Grace Cho - editor', 'Anna Rendell - editor']\n",
      "False\n",
      "['(株)文化放送'] |||| ['三笑亭 可楽']\n",
      "['三笑亭 可楽']\n",
      "['(株)文化放送']\n",
      "False\n",
      "['(株)文化放送'] |||| ['三笑亭 可楽']\n",
      "['三笑亭 可楽']\n",
      "['(株)文化放送']\n",
      "False\n",
      "['(株)文化放送'] |||| ['三笑亭 可楽']\n",
      "['三笑亭 可楽']\n",
      "['(株)文化放送']\n",
      "False\n",
      "['(株)文化放送'] |||| ['三笑亭 可楽']\n",
      "['三笑亭 可楽']\n",
      "['(株)文化放送']\n",
      "False\n",
      "['(株)文化放送'] |||| ['三笑亭 可楽']\n",
      "['三笑亭 可楽']\n",
      "['(株)文化放送']\n",
      "False\n",
      "['(株)文化放送'] |||| ['三笑亭 可楽']\n",
      "['三笑亭 可楽']\n",
      "['(株)文化放送']\n",
      "False\n",
      "['(株)文化放送'] |||| ['三笑亭 可楽']\n",
      "['三笑亭 可楽']\n",
      "['(株)文化放送']\n",
      "False\n",
      "['(株)文化放送'] |||| ['三笑亭 可楽']\n",
      "['三笑亭 可楽']\n",
      "['(株)文化放送']\n",
      "False\n",
      "['(株)文化放送'] |||| ['三遊亭 円歌']\n",
      "['三遊亭 円歌']\n",
      "['(株)文化放送']\n",
      "False\n",
      "['(株)文化放送'] |||| ['三遊亭 小圓朝']\n",
      "['三遊亭 小圓朝']\n",
      "['(株)文化放送']\n",
      "False\n",
      "['(株)文化放送'] |||| ['三遊亭 小圓朝']\n",
      "['三遊亭 小圓朝']\n",
      "['(株)文化放送']\n",
      "False\n",
      "['(株)文化放送'] |||| ['三遊亭 金馬']\n",
      "['三遊亭 金馬']\n",
      "['(株)文化放送']\n",
      "False\n",
      "['(株)文化放送'] |||| ['三遊亭 金馬']\n",
      "['三遊亭 金馬']\n",
      "['(株)文化放送']\n",
      "False\n",
      "['(株)文化放送'] |||| ['三遊亭 金馬']\n",
      "['三遊亭 金馬']\n",
      "['(株)文化放送']\n",
      "False\n",
      "['(株)文化放送'] |||| ['三遊亭 金馬']\n",
      "['三遊亭 金馬']\n",
      "['(株)文化放送']\n",
      "False\n",
      "['(株)文化放送'] |||| ['三遊亭 金馬']\n",
      "['三遊亭 金馬']\n",
      "['(株)文化放送']\n",
      "False\n",
      "['(株)文化放送'] |||| ['三遊亭 金馬']\n",
      "['三遊亭 金馬']\n",
      "['(株)文化放送']\n",
      "False\n",
      "['(株)文化放送'] |||| ['三遊亭 金馬']\n",
      "['三遊亭 金馬']\n",
      "['(株)文化放送']\n",
      "False\n",
      "['(株)文化放送'] |||| ['三遊亭 金馬']\n",
      "['三遊亭 金馬']\n",
      "['(株)文化放送']\n",
      "False\n",
      "['(株)文化放送'] |||| ['古今亭 今輔']\n",
      "['古今亭 今輔']\n",
      "['(株)文化放送']\n",
      "False\n",
      "['(株)文化放送'] |||| ['古今亭 今輔']\n",
      "['古今亭 今輔']\n",
      "['(株)文化放送']\n",
      "False\n",
      "['(株)文化放送'] |||| ['古今亭 志ん朝']\n",
      "['古今亭 志ん朝']\n",
      "['(株)文化放送']\n",
      "False\n",
      "['(株)文化放送'] |||| ['古今亭 志ん朝']\n",
      "['古今亭 志ん朝']\n",
      "['(株)文化放送']\n",
      "False\n",
      "['(株)文化放送'] |||| ['古今亭 志ん生']\n",
      "['古今亭 志ん生']\n",
      "['(株)文化放送']\n",
      "False\n",
      "['(株)文化放送'] |||| ['古今亭 志ん生']\n",
      "['古今亭 志ん生']\n",
      "['(株)文化放送']\n",
      "False\n",
      "['(株)文化放送'] |||| ['古今亭 志ん生']\n",
      "['古今亭 志ん生']\n",
      "['(株)文化放送']\n",
      "False\n",
      "['(株)文化放送'] |||| ['古今亭 志ん生']\n",
      "['古今亭 志ん生']\n",
      "['(株)文化放送']\n",
      "False\n",
      "['(株)文化放送'] |||| ['古今亭 志ん生']\n",
      "['古今亭 志ん生']\n",
      "['(株)文化放送']\n",
      "False\n",
      "['(株)文化放送'] |||| ['月の家 圓鏡']\n",
      "['月の家 圓鏡']\n",
      "['(株)文化放送']\n",
      "False\n",
      "['(株)文化放送'] |||| ['柳亭 痴楽']\n",
      "['柳亭 痴楽']\n",
      "['(株)文化放送']\n",
      "False\n",
      "['(株)文化放送'] |||| ['桂 文治']\n",
      "['桂 文治']\n",
      "['(株)文化放送']\n",
      "False\n",
      "['(株)文化放送'] |||| ['金原亭 馬生']\n",
      "['金原亭 馬生']\n",
      "['(株)文化放送']\n",
      "False\n",
      "['- John Dickson'] |||| ['John Dickson']\n",
      "['John Dickson']\n",
      "['- John Dickson']\n",
      "False\n",
      "['-30- Press'] |||| ['Anthony Luciano', 'Amanda Luciano']\n",
      "['Anthony Luciano', 'Amanda Luciano']\n",
      "['-30- Press']\n",
      "False\n",
      "['10 Minute Guru'] |||| ['Roxanne Wiederhold']\n",
      "['Roxanne Wiederhold']\n",
      "['10 Minute Guru']\n",
      "False\n",
      "['1UniqueWriter'] |||| ['Celia Aurora de Blas']\n",
      "['Celia Aurora de Blas']\n",
      "['1UniqueWriter']\n",
      "False\n",
      "['2 B Gentle'] |||| ['Anna Gläsker', 'Monika Gläsker', 'Jens-Henning Gläsker', 'Fulgencio Morente Gomez', 'Janina Burgmer']\n",
      "['Anna Gläsker', 'Monika Gläsker', 'Jens-Henning Gläsker', 'Fulgencio Morente Gomez', 'Janina Burgmer']\n",
      "['2 B Gentle']\n",
      "False\n",
      "['20-Minute Meditations'] |||| ['Brooke Pillifant']\n",
      "['Brooke Pillifant']\n",
      "['20-Minute Meditations']\n",
      "False\n",
      "['21 Day Challenges'] |||| ['Francie Wyck']\n",
      "['Francie Wyck']\n",
      "['21 Day Challenges']\n",
      "False\n",
      "['21-Day Challenges'] |||| ['Amy Johnson']\n",
      "['Amy Johnson']\n",
      "['21-Day Challenges']\n",
      "False\n",
      "['21-Day Challenges'] |||| ['Francie Wyck']\n",
      "['Francie Wyck']\n",
      "['21-Day Challenges']\n",
      "False\n",
      "['21-Day Challenges'] |||| ['Francie Wyck']\n",
      "['Francie Wyck']\n",
      "['21-Day Challenges']\n",
      "False\n",
      "['21-Day Challenges'] |||| ['Francie Wyck']\n",
      "['Francie Wyck']\n",
      "['21-Day Challenges']\n",
      "False\n",
      "['21-Day Challenges'] |||| ['Francie Wyck']\n",
      "['Francie Wyck']\n",
      "['21-Day Challenges']\n",
      "False\n",
      "['21-Day Challenges'] |||| ['Francie Wyck']\n",
      "['Francie Wyck']\n",
      "['21-Day Challenges']\n",
      "False\n",
      "['21-Day Challenges'] |||| ['Francie Wyck']\n",
      "['Francie Wyck']\n",
      "['21-Day Challenges']\n",
      "False\n",
      "['21-Day Challenges'] |||| ['Francie Wyck']\n",
      "['Francie Wyck']\n",
      "['21-Day Challenges']\n",
      "False\n",
      "['21-Day Challenges'] |||| ['Francie Wyck']\n",
      "['Francie Wyck']\n",
      "['21-Day Challenges']\n",
      "False\n",
      "['27Press'] |||| ['Christine Lay']\n",
      "['Christine Lay']\n",
      "['27Press']\n",
      "False\n",
      "['27Press'] |||| ['Daniel David Shapiro']\n",
      "['Daniel David Shapiro']\n",
      "['27Press']\n",
      "False\n",
      "['27Press'] |||| ['Natalie Gray']\n",
      "['Natalie Gray']\n",
      "['27Press']\n",
      "False\n",
      "['2Be Frugal', 'Kenny Mosleye'] |||| ['Jackson Ladd']\n",
      "['Jackson Ladd']\n",
      "['2Be Frugal', 'Kenny Mosleye']\n",
      "False\n",
      "['2Be Frugal', 'Kenny Mosleye'] |||| ['Jackson Ladd']\n",
      "['Jackson Ladd']\n",
      "['2Be Frugal', 'Kenny Mosleye']\n",
      "False\n",
      "['30 Days To Greatness', 'Lucia Georgiou'] |||| ['Matyas J.']\n",
      "['Matyas J.']\n",
      "['30 Days To Greatness', 'Lucia Georgiou']\n",
      "False\n",
      "['30 Minute Reads'] |||| ['Carl Moore']\n",
      "['Carl Moore']\n",
      "['30 Minute Reads']\n",
      "False\n",
      "['30 Minute Reads'] |||| ['Dave Wright']\n",
      "['Dave Wright']\n",
      "['30 Minute Reads']\n",
      "False\n",
      "['30 Minute Reads'] |||| ['Dave Wright']\n",
      "['Dave Wright']\n",
      "['30 Minute Reads']\n",
      "False\n",
      "['30 Minute Reads'] |||| ['Dave Wright']\n",
      "['Dave Wright']\n",
      "['30 Minute Reads']\n",
      "False\n",
      "['30 Minute Reads'] |||| ['David K. Aycock']\n",
      "['David K. Aycock']\n",
      "['30 Minute Reads']\n",
      "False\n",
      "['30 Minute Reads'] |||| ['David K. Aycock']\n",
      "['David K. Aycock']\n",
      "['30 Minute Reads']\n",
      "False\n",
      "['30 Minute Reads'] |||| ['Lanitta Elder']\n",
      "['Lanitta Elder']\n",
      "['30 Minute Reads']\n",
      "False\n",
      "['30 Minute Reads'] |||| ['Mark Maxie']\n",
      "['Mark Maxie']\n",
      "['30 Minute Reads']\n",
      "False\n",
      "['30 Minute Reads'] |||| ['Michael Patrick Lally']\n",
      "['Michael Patrick Lally']\n",
      "['30 Minute Reads']\n",
      "False\n",
      "['30 Minute Reads'] |||| ['Trevor Clinger']\n",
      "['Trevor Clinger']\n",
      "['30 Minute Reads']\n",
      "False\n",
      "['30 Minute Reads'] |||| ['Trevor Clinger']\n",
      "['Trevor Clinger']\n",
      "['30 Minute Reads']\n",
      "False\n",
      "['30 Minute Reads'] |||| ['Youlanda Burnett']\n",
      "['Youlanda Burnett']\n",
      "['30 Minute Reads']\n",
      "False\n",
      "['30-Minute Meditations'] |||| ['Jason Sullivan']\n",
      "['Jason Sullivan']\n",
      "['30-Minute Meditations']\n",
      "False\n",
      "['342 Powerful Self Affirmations'] |||| ['Adam Greco']\n",
      "['Adam Greco']\n",
      "['342 Powerful Self Affirmations']\n",
      "False\n",
      "['50 Cent'] |||| ['Dwayne Clark']\n",
      "['Dwayne Clark']\n",
      "['50 Cent']\n",
      "False\n",
      "['50 Cent'] |||| ['Kris Ex']\n",
      "['Kris Ex']\n",
      "['50 Cent']\n",
      "False\n",
      "['50 Cent', \"Jeff O'Connell\"] |||| ['Cary Hite']\n",
      "['Cary Hite']\n",
      "['50 Cent', \"Jeff O'Connell\"]\n",
      "False\n",
      "['50 Cent', \"K'wan\"] |||| ['Gabe']\n",
      "['Gabe']\n",
      "['50 Cent', \"K'wan\"]\n",
      "False\n",
      "['50 Cent', 'Robert Greene'] |||| ['50 Cent', 'Robert Greene']\n",
      "['50 Cent', 'Robert Greene']\n",
      "['50 Cent', 'Robert Greene']\n",
      "True\n",
      "['50 Things To Know', 'Jonai Republica'] |||| ['Kate Roth']\n",
      "['Kate Roth']\n",
      "['50 Things To Know', 'Jonai Republica']\n",
      "False\n",
      "['50 Things To Know', 'Lisa Rusczyk'] |||| ['J. Michaels']\n",
      "['J. Michaels']\n",
      "['50 Things To Know', 'Lisa Rusczyk']\n",
      "False\n",
      "['50 Things To Know', 'Tina Butters-Hargrave'] |||| ['Ginger White']\n",
      "['Ginger White']\n",
      "['50 Things To Know', 'Tina Butters-Hargrave']\n",
      "False\n",
      "['50 Things to Know', 'Charlotte Whitney'] |||| ['Fred Frabotta']\n",
      "['Fred Frabotta']\n",
      "['50 Things to Know', 'Charlotte Whitney']\n",
      "False\n",
      "['518 Publishing Company LLC', 'Ariana Ferrante', 'Gregg Chamberlain', 'Joseph Rubas', 'Melissa Carbone', 'David K. Thurlow', 'Timothy Lawton', 'Tim Blodgett', 'Ben Blanchette', 'Shannon Grant'] |||| ['Shannon Yseult']\n",
      "['Shannon Yseult']\n",
      "['518 Publishing Company LLC', 'Ariana Ferrante', 'Gregg Chamberlain', 'Joseph Rubas', 'Melissa Carbone', 'David K. Thurlow', 'Timothy Lawton', 'Tim Blodgett', 'Ben Blanchette', 'Shannon Grant']\n",
      "False\n",
      "['5395 Media LLC'] |||| ['5395 Media LLC']\n",
      "['5395 Media LLC']\n",
      "['5395 Media LLC']\n",
      "True\n",
      "['5395 Media LLC'] |||| ['5395 Media LLC']\n",
      "['5395 Media LLC']\n",
      "['5395 Media LLC']\n",
      "True\n",
      "['60+ Church Nazarene Leaders'] |||| ['Larry McKain']\n",
      "['Larry McKain']\n",
      "['60+ Church Nazarene Leaders']\n",
      "False\n",
      "['7 Day Guides'] |||| ['Irene Dipty']\n",
      "['Irene Dipty']\n",
      "['7 Day Guides']\n",
      "False\n",
      "['7 Day Guides'] |||| ['Trevor Clinger']\n",
      "['Trevor Clinger']\n",
      "['7 Day Guides']\n",
      "False\n",
      "['711 Press', 'Jami Lynn Saunders'] |||| ['Sarah McKee']\n",
      "['Sarah McKee']\n",
      "['711 Press', 'Jami Lynn Saunders']\n",
      "False\n",
      "['711 Press', 'Roger Vallon'] |||| ['Steve Berner']\n",
      "['Steve Berner']\n",
      "['711 Press', 'Roger Vallon']\n",
      "False\n",
      "['@dieserdad'] |||| ['@dieserdad']\n",
      "['@dieserdad']\n",
      "['@dieserdad']\n",
      "True\n",
      "['A .L. Jackson'] |||| ['Todd Haberkorn', 'Tanya Eby']\n",
      "['Todd Haberkorn', 'Tanya Eby']\n",
      "['A .L. Jackson']\n",
      "False\n",
      "['A B Bloom'] |||| ['Teresa-May Whittaker']\n",
      "['Teresa-May Whittaker']\n",
      "['A B Bloom']\n",
      "False\n",
      "['A B Jamieson'] |||| ['Anna Butterworth']\n",
      "['Anna Butterworth']\n",
      "['A B Jamieson']\n",
      "False\n",
      "['A Bill Friend'] |||| ['A Bill Friend']\n",
      "['A Bill Friend']\n",
      "['A Bill Friend']\n",
      "True\n",
      "['A Daniels'] |||| ['Alicia Grant']\n",
      "['Alicia Grant']\n",
      "['A Daniels']\n",
      "False\n",
      "['A E Bower'] |||| ['Don Alfredano']\n",
      "['Don Alfredano']\n",
      "['A E Bower']\n",
      "False\n",
      "['A E. Via'] |||| ['Tim Paige']\n",
      "['Tim Paige']\n",
      "['A E. Via']\n",
      "False\n",
      "['A J McDine'] |||| ['Danielle Cohen']\n",
      "['Danielle Cohen']\n",
      "['A J McDine']\n",
      "False\n"
     ]
    }
   ],
   "source": [
    "for x in range(0,100):\n",
    "    print(titles.author[x],\"||||\", titles.narrator[x])\n",
    "    print(are_you_me(titles.author[x],titles.narrator[x]))"
   ]
  },
  {
   "cell_type": "code",
   "execution_count": null,
   "metadata": {},
   "outputs": [],
   "source": []
  }
 ],
 "metadata": {
  "kernelspec": {
   "display_name": "local-venv",
   "language": "python",
   "name": "local-venv"
  },
  "language_info": {
   "codemirror_mode": {
    "name": "ipython",
    "version": 3
   },
   "file_extension": ".py",
   "mimetype": "text/x-python",
   "name": "python",
   "nbconvert_exporter": "python",
   "pygments_lexer": "ipython3",
   "version": "3.7.4"
  }
 },
 "nbformat": 4,
 "nbformat_minor": 4
}
